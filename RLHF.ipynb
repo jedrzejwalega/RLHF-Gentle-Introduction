{
  "nbformat": 4,
  "nbformat_minor": 0,
  "metadata": {
    "colab": {
      "provenance": [],
      "authorship_tag": "ABX9TyMGs9xNjzZRnQjsfL74GdsE",
      "include_colab_link": true
    },
    "kernelspec": {
      "name": "python3",
      "display_name": "Python 3"
    },
    "language_info": {
      "name": "python"
    }
  },
  "cells": [
    {
      "cell_type": "markdown",
      "metadata": {
        "id": "view-in-github",
        "colab_type": "text"
      },
      "source": [
        "<a href=\"https://colab.research.google.com/github/jedrzejwalega/RLHF-Gentle-Introduction/blob/main/RLHF.ipynb\" target=\"_parent\"><img src=\"https://colab.research.google.com/assets/colab-badge.svg\" alt=\"Open In Colab\"/></a>"
      ]
    },
    {
      "cell_type": "markdown",
      "source": [
        "#**What's RLHF and why the hype?**\n",
        "**ChatGPT** has taken by the world by storm and for a good reason - it's an extremely powerful tool equipped not only in vast knowledge, but also eloquency that appeals to the human user. Large language models (LLMs) are not restricted to ChatGPT of course, but it's not an accident that OpenAI's tool is the most popular one. Quality wise it is easier to converse with than most other LLMs.\n",
        "\n",
        "Why is that? Well, one of the core reasons is a novel approach used in training ChatGPT called **Reinforced Learning from Human Feedback** or **RLHF** for short. As the name might suggest, it's a new trick for improving the model's conversational capabilities, involving humans in the training process.\n",
        "\n",
        "RLHF can be summarised as a way of guiding the model's learning by having humans directly rate its outputs, based on which the model adjusts itself to receive the biggest human rating possible. This helps its speech become more user friendly in the process.\n",
        "\n",
        "I'd like to dedicate this tutorial to introduce you to RLHF method, but before we dive deeper, let's cover some theoretical basis necessary to understand what's going on - supervised learning, reinforcement learning and how to create an LLM from scratch.\n",
        "\n",
        "\n"
      ],
      "metadata": {
        "id": "xf5OM0cMWOQW"
      }
    },
    {
      "cell_type": "markdown",
      "source": [
        "#**Crash course through basics**\n",
        "##Supervised learning vs Reinforcement learning"
      ],
      "metadata": {
        "id": "Z_B795O4blAY"
      }
    }
  ]
}